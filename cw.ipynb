{
 "cells": [
  {
   "cell_type": "markdown",
   "id": "da9ee22e",
   "metadata": {},
   "source": [
    "Data Loading"
   ]
  },
  {
   "cell_type": "code",
   "execution_count": 1,
   "id": "76e785a5",
   "metadata": {},
   "outputs": [
    {
     "name": "stdout",
     "output_type": "stream",
     "text": [
      "Clean data shape: (2000, 8)\n",
      "Noisy data shape: (2000, 8)\n",
      "First row of clean data: [-64. -56. -61. -66. -71. -82. -81.   1.]\n",
      "First row of noisy data: [-59. -53. -51. -54. -45. -79. -87.   4.]\n"
     ]
    }
   ],
   "source": [
    "from DecisionTree import DescisionTree\n",
    "from CrossValidator import KFoldCrossValidator\n",
    "import numpy as np\n",
    "\n",
    "## Loading datasets\n",
    "clean_data = np.loadtxt('wifi_db/clean_dataset.txt')\n",
    "noisy_data = np.loadtxt('wifi_db/noisy_dataset.txt')\n",
    "\n",
    "## check shape, we expect these to be the same\n",
    "print(f\"Clean data shape: {clean_data.shape}\")\n",
    "print(f\"Noisy data shape: {noisy_data.shape}\")\n",
    "\n",
    "print(f\"First row of clean data: {clean_data[0]}\")\n",
    "print(f\"First row of noisy data: {noisy_data[0]}\")"
   ]
  },
  {
   "cell_type": "markdown",
   "id": "ecdf7e7a",
   "metadata": {},
   "source": [
    "Quick test to check that the trees are being created correctly"
   ]
  },
  {
   "cell_type": "code",
   "execution_count": 2,
   "id": "02514aea",
   "metadata": {},
   "outputs": [
    {
     "name": "stdout",
     "output_type": "stream",
     "text": [
      "Tree achieved 100% accuracy on training data.\n",
      "Tree depth on clean data: 14\n"
     ]
    }
   ],
   "source": [
    "## We expect the tree to achieve 100% accuracy on the provided training data\n",
    "tree = DescisionTree(clean_data)\n",
    "avg_acc = tree.evaluate(clean_data)\n",
    "assert avg_acc == 1.0, f\"Expected 100% accuracy on clean training data but got {avg_acc}\"\n",
    "print(f\"Tree achieved 100% accuracy on training data.\\nTree depth on clean data: {tree.depth}\")"
   ]
  },
  {
   "cell_type": "markdown",
   "id": "96a3b349",
   "metadata": {},
   "source": [
    "10 Fold Cross Validation"
   ]
  },
  {
   "cell_type": "code",
   "execution_count": 4,
   "id": "eb705396",
   "metadata": {},
   "outputs": [
    {
     "name": "stdout",
     "output_type": "stream",
     "text": [
      "Fold 1: Accuracy = 0.9750\n",
      "Fold 2: Accuracy = 0.9750\n",
      "Fold 3: Accuracy = 0.9650\n",
      "Fold 4: Accuracy = 0.9800\n",
      "Fold 5: Accuracy = 0.9350\n",
      "Fold 6: Accuracy = 0.9900\n",
      "Fold 7: Accuracy = 0.9850\n",
      "Fold 8: Accuracy = 0.9850\n",
      "Fold 9: Accuracy = 0.9900\n",
      "Fold 10: Accuracy = 0.9750\n",
      "Average Accuracy over 10 folds: 0.9755\n",
      "Fold 1: Accuracy = 0.8100\n",
      "Fold 2: Accuracy = 0.8450\n",
      "Fold 3: Accuracy = 0.7900\n",
      "Fold 4: Accuracy = 0.8400\n",
      "Fold 5: Accuracy = 0.8350\n",
      "Fold 6: Accuracy = 0.8200\n",
      "Fold 7: Accuracy = 0.8300\n",
      "Fold 8: Accuracy = 0.7850\n",
      "Fold 9: Accuracy = 0.7450\n",
      "Fold 10: Accuracy = 0.8200\n",
      "Average Accuracy over 10 folds: 0.8120\n"
     ]
    },
    {
     "data": {
      "text/plain": [
       "np.float64(0.8119999999999999)"
      ]
     },
     "execution_count": 4,
     "metadata": {},
     "output_type": "execute_result"
    }
   ],
   "source": [
    "tenFoldValidator = KFoldCrossValidator(DescisionTree, 10)\n",
    "\n",
    "## We expect the accuracies here to be different each time due to randomness in fold splitting\n",
    "tenFoldValidator.k_fold_cross_validation(clean_data)\n",
    "tenFoldValidator.k_fold_cross_validation(noisy_data)"
   ]
  }
 ],
 "metadata": {
  "kernelspec": {
   "display_name": "intro-to-ml-env",
   "language": "python",
   "name": "python3"
  },
  "language_info": {
   "codemirror_mode": {
    "name": "ipython",
    "version": 3
   },
   "file_extension": ".py",
   "mimetype": "text/x-python",
   "name": "python",
   "nbconvert_exporter": "python",
   "pygments_lexer": "ipython3",
   "version": "3.12.3"
  }
 },
 "nbformat": 4,
 "nbformat_minor": 5
}
